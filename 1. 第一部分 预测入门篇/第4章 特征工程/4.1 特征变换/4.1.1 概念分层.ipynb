{
 "cells": [
  {
   "cell_type": "markdown",
   "metadata": {},
   "source": [
    "通过编写Python代码说明概念分层的使用方法"
   ]
  },
  {
   "cell_type": "code",
   "execution_count": 1,
   "metadata": {},
   "outputs": [
    {
     "data": {
      "text/plain": [
       "<matplotlib.axes._subplots.AxesSubplot at 0x11e42d650>"
      ]
     },
     "execution_count": 1,
     "metadata": {},
     "output_type": "execute_result"
    },
    {
     "data": {
      "image/png": "[encoded data removed]",
      "text/plain": [
       "<Figure size 432x288 with 1 Axes>"
      ]
     },
     "metadata": {
      "needs_background": "light"
     },
     "output_type": "display_data"
    }
   ],
   "source": [
    "import pandas as pd\n",
    "import numpy as np\n",
    "import warnings\n",
    "import matplotlib\n",
    "import matplotlib.pyplot as plt\n",
    "matplotlib.rcParams['font.family'] = 'Arial Unicode MS'\n",
    "%matplotlib inline\n",
    "warnings.filterwarnings('ignore')\n",
    "boys = pd.read_csv(\"http://image.cador.cn/data/boys.csv\")\n",
    "#这里根据BMI指数，将bmi属性泛化成体重类型字段wtype\n",
    "parts = np.array([0, 18.5, 25, 28, 100])\n",
    "types = [\"过轻\",\"正常\",\"过重\",\"肥胖\"]\n",
    "boys['wtype'] = [types[np.where(x <= parts)[0][0]-1] if not np.isnan(x) else \"未知\" for x in boys.bmi]\n",
    "boys[boys.wtype!=\"未知\"].wtype.value_counts().plot.bar()"
   ]
  }
 ],
 "metadata": {
  "kernelspec": {
   "display_name": "Python 3",
   "language": "python",
   "name": "python3"
  },
  "language_info": {
   "codemirror_mode": {
    "name": "ipython",
    "version": 3
   },
   "file_extension": ".py",
   "mimetype": "text/x-python",
   "name": "python",
   "nbconvert_exporter": "python",
   "pygments_lexer": "ipython3",
   "version": "3.7.5"
  }
 },
 "nbformat": 4,
 "nbformat_minor": 4
}
