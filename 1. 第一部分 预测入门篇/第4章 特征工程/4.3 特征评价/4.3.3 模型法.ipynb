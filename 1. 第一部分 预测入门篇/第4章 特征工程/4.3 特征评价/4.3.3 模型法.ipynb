{
 "cells": [
  {
   "cell_type": "markdown",
   "metadata": {},
   "source": [
    "### 增益法\n",
    "编写Python代码，对涉及到13个特征，使用随机森林的方法进行重要性评价"
   ]
  },
  {
   "cell_type": "code",
   "execution_count": 1,
   "metadata": {},
   "outputs": [
    {
     "name": "stdout",
     "output_type": "stream",
     "text": [
      " 1) Proline                        0.172933\n",
      " 2) Color intensity                0.159572\n",
      " 3) Flavanoids                     0.158639\n",
      " 4) Alcohol                        0.122553\n",
      " 5) OD280/OD315 of diluted wines   0.117285\n",
      " 6) Hue                            0.082196\n",
      " 7) Total phenols                  0.052964\n",
      " 8) Magnesium                      0.030679\n",
      " 9) Malic acid                     0.030567\n",
      "10) Alcalinity of ash              0.026736\n",
      "11) Proanthocyanins                0.021301\n",
      "12) Ash                            0.013659\n",
      "13) Nonflavanoid phenols           0.010917\n"
     ]
    }
   ],
   "source": [
    "from sklearn.ensemble import RandomForestClassifier\n",
    "import pandas as pd\n",
    "import numpy as np\n",
    "df = pd.read_csv('http://archive.ics.uci.edu/ml/machine-learning-databases/wine/wine.data', header = None)\n",
    "df.columns = ['Class label', 'Alcohol', 'Malic acid', 'Ash', \n",
    "              'Alcalinity of ash', 'Magnesium', 'Total phenols', \n",
    "              'Flavanoids', 'Nonflavanoid phenols', 'Proanthocyanins', \n",
    "              'Color intensity', 'Hue', 'OD280/OD315 of diluted wines', 'Proline']\n",
    "X, y = df.drop(columns='Class label'),df['Class label']\n",
    "forest = RandomForestClassifier(n_estimators=10000, random_state=0)\n",
    "forest.fit(X, y)\n",
    "importances = forest.feature_importances_\n",
    "indices = np.argsort(importances)[::-1]\n",
    "for e in range(X.shape[1]):\n",
    "    print(\"%2d) %-*s %f\" % (e + 1, 30, X.columns[indices[e]], importances[indices[e]]))"
   ]
  },
  {
   "cell_type": "markdown",
   "metadata": {},
   "source": [
    "可将特征重要性得分通过条形图进行展现"
   ]
  },
  {
   "cell_type": "code",
   "execution_count": 3,
   "metadata": {},
   "outputs": [
    {
     "data": {
      "image/png": "[encoded data removed]",
      "text/plain": [
       "<Figure size 432x288 with 1 Axes>"
      ]
     },
     "metadata": {
      "needs_background": "light"
     },
     "output_type": "display_data"
    }
   ],
   "source": [
    "import matplotlib.pyplot as plt\n",
    "import matplotlib\n",
    "matplotlib.rcParams['font.family'] = 'Arial Unicode MS'\n",
    "plt.title('Feature Importance')\n",
    "plt.bar(range(X.shape[1]), importances[indices], color='black', align='center')\n",
    "plt.xticks(range(X.shape[1]), X.columns[indices], rotation=90)\n",
    "plt.xlim([-1, X.shape[1]])\n",
    "plt.tight_layout()\n",
    "plt.show()"
   ]
  },
  {
   "cell_type": "markdown",
   "metadata": {},
   "source": [
    "### 置换法\n",
    "现基于wine.data数据集，通过编写Python代码，说明置换法的原理和使用方法"
   ]
  },
  {
   "cell_type": "code",
   "execution_count": 4,
   "metadata": {},
   "outputs": [
    {
     "name": "stdout",
     "output_type": "stream",
     "text": [
      " 1) Color intensity                0.024976\n",
      " 2) Flavanoids                     0.021737\n",
      " 3) Proline                        0.014465\n",
      " 4) OD280/OD315 of diluted wines   0.009800\n",
      " 5) Ash                            0.009589\n",
      " 6) Alcohol                        0.009480\n",
      " 7) Hue                            0.009200\n",
      " 8) Total phenols                  0.009128\n",
      " 9) Malic acid                     0.008869\n",
      "10) Nonflavanoid phenols           0.008781\n",
      "11) Alcalinity of ash              0.008774\n",
      "12) Magnesium                      0.008598\n",
      "13) Proanthocyanins                0.008398\n"
     ]
    }
   ],
   "source": [
    "from sklearn import tree\n",
    "from sklearn.metrics import confusion_matrix\n",
    "from sklearn.model_selection import train_test_split\n",
    "import numpy as np\n",
    "import random\n",
    "\n",
    "def eval_func(xtrain,ytrain,ytest,xtest):\n",
    "    clf = tree.DecisionTreeClassifier()\n",
    "    clf = clf.fit(xtrain, ytrain)\n",
    "    C2= confusion_matrix(ytest, clf.predict(xtest))\n",
    "    return np.sum(np.diag(C2))/xtest.shape[0]\n",
    "\n",
    "out = []\n",
    "for i in range(10000):\n",
    "    X_train, X_test, y_train, y_test = train_test_split(X, y, test_size = 0.3, random_state=i)\n",
    "    org_ratio = eval_func(X_train,y_train,y_test,X_test)\n",
    "    eval_list = []\n",
    "    for col in X_train.columns:\n",
    "        new_train = X_train.copy()\n",
    "        new_train[col] = random.choice(range(new_train.shape[0]))\n",
    "        decrease = org_ratio - eval_func(new_train,y_train,y_test,X_test)\n",
    "        eval_list.append(decrease if decrease > 0 else 0)\n",
    "    out.append(eval_list)\n",
    "\n",
    "importances = pd.DataFrame(np.array(out)).apply(lambda x:np.mean(x),axis=0).values\n",
    "indices = np.argsort(importances)[::-1]\n",
    "for e in range(X.shape[1]):\n",
    "    print(\"%2d) %-*s %f\" % (e + 1, 30, X_train.columns[indices[e]], importances[indices[e]]))"
   ]
  },
  {
   "cell_type": "markdown",
   "metadata": {},
   "source": [
    "将特征重要性得分通过条形图进行展现"
   ]
  },
  {
   "cell_type": "code",
   "execution_count": 5,
   "metadata": {},
   "outputs": [
    {
     "data": {
      "image/png": "[encoded data removed]",
      "text/plain": [
       "<Figure size 432x288 with 1 Axes>"
      ]
     },
     "metadata": {
      "needs_background": "light"
     },
     "output_type": "display_data"
    }
   ],
   "source": [
    "import matplotlib.pyplot as plt\n",
    "plt.title('Feature Importance')\n",
    "plt.bar(range(X_train.shape[1]), importances[indices], color='black', align='center')\n",
    "plt.xticks(range(X_train.shape[1]), X_train.columns[indices], rotation=90)\n",
    "plt.xlim([-1, X_train.shape[1]])\n",
    "plt.tight_layout()\n",
    "plt.show()"
   ]
  }
 ],
 "metadata": {
  "kernelspec": {
   "display_name": "Python 3",
   "language": "python",
   "name": "python3"
  },
  "language_info": {
   "codemirror_mode": {
    "name": "ipython",
    "version": 3
   },
   "file_extension": ".py",
   "mimetype": "text/x-python",
   "name": "python",
   "nbconvert_exporter": "python",
   "pygments_lexer": "ipython3",
   "version": "3.7.5"
  }
 },
 "nbformat": 4,
 "nbformat_minor": 4
}
