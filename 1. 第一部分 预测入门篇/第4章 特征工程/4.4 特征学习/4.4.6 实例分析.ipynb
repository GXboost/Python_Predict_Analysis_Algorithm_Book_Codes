{
 "cells": [
  {
   "cell_type": "markdown",
   "metadata": {},
   "source": [
    "对X1~X4进行标准化处理"
   ]
  },
  {
   "cell_type": "code",
   "execution_count": 1,
   "metadata": {},
   "outputs": [
    {
     "data": {
      "text/html": [
       "<div>\n",
       "<style scoped>\n",
       "    .dataframe tbody tr th:only-of-type {\n",
       "        vertical-align: middle;\n",
       "    }\n",
       "\n",
       "    .dataframe tbody tr th {\n",
       "        vertical-align: top;\n",
       "    }\n",
       "\n",
       "    .dataframe thead th {\n",
       "        text-align: right;\n",
       "    }\n",
       "</style>\n",
       "<table border=\"1\" class=\"dataframe\">\n",
       "  <thead>\n",
       "    <tr style=\"text-align: right;\">\n",
       "      <th></th>\n",
       "      <th>X1</th>\n",
       "      <th>X2</th>\n",
       "      <th>X3</th>\n",
       "      <th>X4</th>\n",
       "    </tr>\n",
       "  </thead>\n",
       "  <tbody>\n",
       "    <tr>\n",
       "      <th>0</th>\n",
       "      <td>-0.812132</td>\n",
       "      <td>0.057192</td>\n",
       "      <td>-0.857886</td>\n",
       "      <td>1.612825</td>\n",
       "    </tr>\n",
       "    <tr>\n",
       "      <th>1</th>\n",
       "      <td>-1.234525</td>\n",
       "      <td>0.252215</td>\n",
       "      <td>-0.491155</td>\n",
       "      <td>1.473466</td>\n",
       "    </tr>\n",
       "    <tr>\n",
       "      <th>2</th>\n",
       "      <td>-0.666283</td>\n",
       "      <td>1.685303</td>\n",
       "      <td>-0.823055</td>\n",
       "      <td>-0.195965</td>\n",
       "    </tr>\n",
       "    <tr>\n",
       "      <th>3</th>\n",
       "      <td>-0.836854</td>\n",
       "      <td>0.426322</td>\n",
       "      <td>-1.026330</td>\n",
       "      <td>1.436862</td>\n",
       "    </tr>\n",
       "    <tr>\n",
       "      <th>4</th>\n",
       "      <td>-0.910705</td>\n",
       "      <td>1.431108</td>\n",
       "      <td>-0.962745</td>\n",
       "      <td>0.442343</td>\n",
       "    </tr>\n",
       "  </tbody>\n",
       "</table>\n",
       "</div>"
      ],
      "text/plain": [
       "         X1        X2        X3        X4\n",
       "0 -0.812132  0.057192 -0.857886  1.612825\n",
       "1 -1.234525  0.252215 -0.491155  1.473466\n",
       "2 -0.666283  1.685303 -0.823055 -0.195965\n",
       "3 -0.836854  0.426322 -1.026330  1.436862\n",
       "4 -0.910705  1.431108 -0.962745  0.442343"
      ]
     },
     "execution_count": 1,
     "metadata": {},
     "output_type": "execute_result"
    }
   ],
   "source": [
    "import pandas as pd\n",
    "import numpy as np\n",
    "# 读入基础数据\n",
    "cemht = pd.read_csv(\"http://image.cador.cn/data/cemht.csv\")\n",
    "X = cemht.drop(columns=['No','Y'])\n",
    "y = cemht.Y\n",
    "# 对 X1~X4 进行标准化处理\n",
    "X = X.apply(lambda x: (x - np.mean(x))/np.std(x),axis=1)\n",
    "X.head()"
   ]
  },
  {
   "cell_type": "markdown",
   "metadata": {},
   "source": [
    "计算按原始属性进行交叉验证得到的误差平方和，并存储在变量std_error中"
   ]
  },
  {
   "cell_type": "code",
   "execution_count": 2,
   "metadata": {},
   "outputs": [],
   "source": [
    "from sklearn import linear_model \n",
    "\n",
    "def evaluation_regression(X,y):\n",
    "    \"\"\"建立回归问题的评估方法\"\"\"\n",
    "    reg = linear_model.LinearRegression()\n",
    "    errors = 0\n",
    "    for i in range(X.shape[0]):\n",
    "        index = [e for e in range(X.shape[0])]\n",
    "        index.remove(i)\n",
    "        X_train = X.iloc[index,:]\n",
    "        X_test = X.iloc[[i],:]\n",
    "        y_train = y[index]\n",
    "        y_test = y[i]\n",
    "        reg.fit(X_train, y_train)\n",
    "        errors = errors + (y_test - reg.predict(X_test)[0])**2\n",
    "    return errors/np.sum(y)"
   ]
  },
  {
   "cell_type": "code",
   "execution_count": 3,
   "metadata": {},
   "outputs": [
    {
     "data": {
      "text/plain": [
       "0.16428991916253996"
      ]
     },
     "execution_count": 3,
     "metadata": {},
     "output_type": "execute_result"
    }
   ],
   "source": [
    "std_error = evaluation_regression(X,y)\n",
    "std_error"
   ]
  },
  {
   "cell_type": "markdown",
   "metadata": {},
   "source": [
    "产生初始种群，设种群规模为100，同时设置需要的特征数为3，即个体对应的基因数量"
   ]
  },
  {
   "cell_type": "code",
   "execution_count": 4,
   "metadata": {},
   "outputs": [],
   "source": [
    "def gen_individuals(k, gen_num, input_data, featureIdx, nMax=10):\n",
    "    \"\"\"产生k个个体, gen_num表示每个体对应的固定基因数量\"\"\"\n",
    "    indiv_list = []\n",
    "    gene_list = []\n",
    "    for e in range(k):\n",
    "        indiv = {}\n",
    "        gene = []\n",
    "        for i in range(gen_num):\n",
    "            out = random_get_tree(input_data, featureIdx, nMax) \n",
    "            indiv[\"g\"+str(i+1)]=out['f_value']\n",
    "            gene.append(out['tree_exp'])\n",
    "        indiv = pd.DataFrame(indiv)\n",
    "        indiv_list.append(indiv)\n",
    "        gene_list.append(gene)\n",
    "    return {\"df\":indiv_list, \"gene\": gene_list}"
   ]
  },
  {
   "cell_type": "code",
   "execution_count": 5,
   "metadata": {},
   "outputs": [],
   "source": [
    "import random \n",
    "\n",
    "def random_get_tree(input_data,featureIdx,nMax=10):\n",
    "    \"\"\" \n",
    "    从原始数据特征中，随机获取特征表达树  \n",
    "    featureIdx: 原始特征的下标数值，最小从1开始\n",
    "    nMax:一次最多从特征中可放回抽样次数，默认为10\n",
    "    \"\"\"\n",
    "    data = pd.DataFrame({\"X\"+str(e):input_data.iloc[:,(e-1)].values for e in featureIdx})\n",
    "    \n",
    "    # 随机抽取N个特征下标\n",
    "    N = random.choice(range(2,nMax+1))\n",
    "    \n",
    "    # 随机决定是使用满二叉树还是偏二叉树\n",
    "    if random.choice([0,1]) == 1:\n",
    "        # 选择满二叉树\n",
    "        select_feature_index = [random.choice(featureIdx) for i in range(N)]+[0]*int(2**np.ceil(np.log2(N)) - N)\n",
    "        random.shuffle(select_feature_index)\n",
    "        select_feature_index = ['data.X'+str(e)+\".values\" if e> 0 else '0' for e in select_feature_index]\n",
    "        tree_exp = gen_full_tree_exp(select_feature_index)\n",
    "    else:\n",
    "        # 选择偏二叉树\n",
    "        select_feature_index = ['data.X'+str(e)+\".values\" for e in [random.choice(featureIdx) for i in range(N)]]\n",
    "        tree_exp =  gen_side_tree_exp(select_feature_index)\n",
    "    return {\"f_value\":eval(tree_exp),\"tree_exp\":tree_exp.replace(\"data.\",\"\").replace(\".values\",\"\")}"
   ]
  },
  {
   "cell_type": "code",
   "execution_count": 6,
   "metadata": {},
   "outputs": [],
   "source": [
    "# 构建满二叉树，并生成数学表达式\n",
    "def gen_full_tree_exp(var_flag_array):\n",
    "    half_n = len(var_flag_array)//2\n",
    "    middle_array = []\n",
    "    for i in range(half_n):\n",
    "        if var_flag_array[i] == '0' and var_flag_array[i+half_n] != '0':\n",
    "            middle_array.append('g('+random.choice(one_group)+','+add_one_group(var_flag_array[i+half_n])+')')\n",
    "        elif var_flag_array[i] != '0' and var_flag_array[i+half_n] == '0':\n",
    "            middle_array.append('g('+random.choice(one_group)+','+add_one_group(var_flag_array[i])+')')\n",
    "        elif var_flag_array[i] != '0' and var_flag_array[i+half_n] != '0':\n",
    "            middle_array.append('g('+random.choice(two_group)+','+add_one_group(var_flag_array[i])+','+add_one_group(var_flag_array[i+half_n])+')')\n",
    "    if len(middle_array) == 1:\n",
    "        return add_one_group(middle_array[0])\n",
    "    else:\n",
    "        return gen_full_tree_exp(middle_array)"
   ]
  },
  {
   "cell_type": "code",
   "execution_count": 7,
   "metadata": {},
   "outputs": [],
   "source": [
    "min_number = 0.01\n",
    "\n",
    "# 一元运算\n",
    "def log(x):\n",
    "    return np.sign(x)*np.log2(np.abs(x)+1)\n",
    "\n",
    "def sqrt(x):\n",
    "    return np.sqrt(x-np.min(x)+min_number)\n",
    "\n",
    "def pow2(x):\n",
    "    return x**2\n",
    "\n",
    "def pow3(x):\n",
    "    return x**3\n",
    "\n",
    "def inv(x):\n",
    "    return 1*np.sign(x)/(np.abs(x)+min_number)\n",
    "\n",
    "def sigmoid(x):\n",
    "    if np.std(x) < min_number:\n",
    "        return x\n",
    "    x = (x - np.mean(x))/np.std(x)\n",
    "    return (1 + np.exp(-x))**(-1)\n",
    "\n",
    "def tanh(x):\n",
    "    if np.std(x) < min_number:\n",
    "        return x\n",
    "    x = (x - np.mean(x))/np.std(x)\n",
    "    return (np.exp(x) - np.exp(-x))/(np.exp(x) + np.exp(-x))\n",
    "\n",
    "def relu(x):\n",
    "    if np.std(x) < min_number:\n",
    "        return x\n",
    "    x = (x - np.mean(x))/np.std(x)\n",
    "    return np.array([e if e > 0 else 0 for e in x])\n",
    "\n",
    "def binary(x):\n",
    "    if np.std(x) < min_number:\n",
    "        return x\n",
    "    x = (x - np.mean(x))/np.std(x)\n",
    "    return np.array([1 if e > 0 else 0 for e in x])\n",
    "\n",
    "# 二元运算\n",
    "def add(x,y):\n",
    "    return x + y\n",
    "\n",
    "def sub(x,y):\n",
    "    return x - y\n",
    "\n",
    "def times(x,y):\n",
    "    return x * y\n",
    "\n",
    "def div(x,y):\n",
    "    return x*np.sign(y)/(np.abs(y)+min_number)\n",
    "\n",
    "two_group = ['add', 'sub', 'times', 'div']\n",
    "one_group = ['log', 'sqrt', 'pow2', 'pow3', 'inv', 'sigmoid', 'tanh', 'relu', 'binary']"
   ]
  },
  {
   "cell_type": "code",
   "execution_count": 8,
   "metadata": {},
   "outputs": [],
   "source": [
    "#构建偏二叉树，并生成数学表达式\n",
    "def gen_side_tree_exp(var_flag_array):\n",
    "    if len(var_flag_array) == 1:\n",
    "        return add_one_group(var_flag_array[0])\n",
    "    else:\n",
    "        var_flag_array[1] = 'g('+random.choice(two_group)+','+add_one_group(var_flag_array[0])+','+add_one_group(var_flag_array[1])+')'\n",
    "        del var_flag_array[0]\n",
    "        return gen_side_tree_exp(var_flag_array)"
   ]
  },
  {
   "cell_type": "code",
   "execution_count": 9,
   "metadata": {},
   "outputs": [],
   "source": [
    "# 随机增加一元运算符\n",
    "def add_one_group(feature_string, prob=0.3):\n",
    "    return 'g('+random.choice(one_group)+','+feature_string+')' if np.random.uniform(0, 1) < prob else feature_string"
   ]
  },
  {
   "cell_type": "code",
   "execution_count": 10,
   "metadata": {},
   "outputs": [],
   "source": [
    "def g(f, a, b=None):\n",
    "    \"\"\"\n",
    "    f: 一元或二元运算函数\n",
    "    a: 第一个参数\n",
    "    b: 如果f是一元运算函数，则b为空，否则代表二元运算的第二个参数\n",
    "    \"\"\"\n",
    "    if b is None:\n",
    "        return f(a)\n",
    "    else:\n",
    "        return f(a,b)"
   ]
  },
  {
   "cell_type": "code",
   "execution_count": 11,
   "metadata": {},
   "outputs": [],
   "source": [
    "def get_adjust(std_error, y, indiv_data, handle):\n",
    "    \"\"\"计算适应度，通过外部定义的handle来处理，同时适用于分类和回归问题\"\"\"\n",
    "    X = indiv_data\n",
    "    cur_error = handle(X,y)\n",
    "    return std_error - cur_error if std_error > cur_error else 0"
   ]
  },
  {
   "cell_type": "code",
   "execution_count": 12,
   "metadata": {},
   "outputs": [
    {
     "data": {
      "text/plain": [
       "array([0.        , 0.        , 0.        , 0.        , 0.        ,\n",
       "       0.        , 0.        , 0.        , 0.        , 0.        ,\n",
       "       0.        , 0.        , 0.        , 0.02157389, 0.        ,\n",
       "       0.        , 0.        , 0.        , 0.        , 0.        ,\n",
       "       0.        , 0.        , 0.        , 0.        , 0.        ,\n",
       "       0.        , 0.        , 0.        , 0.        , 0.        ,\n",
       "       0.        , 0.        , 0.        , 0.        , 0.        ,\n",
       "       0.        , 0.        , 0.        , 0.        , 0.        ,\n",
       "       0.        , 0.        , 0.        , 0.        , 0.        ,\n",
       "       0.        , 0.        , 0.        , 0.        , 0.        ,\n",
       "       0.        , 0.        , 0.        , 0.        , 0.        ,\n",
       "       0.        , 0.        , 0.        , 0.        , 0.        ,\n",
       "       0.        , 0.        , 0.        , 0.        , 0.        ,\n",
       "       0.        , 0.        , 0.        , 0.        , 0.        ,\n",
       "       0.        , 0.        , 0.        , 0.        , 0.        ,\n",
       "       0.        , 0.        , 0.        , 0.        , 0.        ,\n",
       "       0.        , 0.        , 0.        , 0.        , 0.        ,\n",
       "       0.        , 0.        , 0.        , 0.00564825, 0.        ,\n",
       "       0.        , 0.        , 0.        , 0.        , 0.        ,\n",
       "       0.        , 0.        , 0.        , 0.        , 0.        ])"
      ]
     },
     "execution_count": 12,
     "metadata": {},
     "output_type": "execute_result"
    }
   ],
   "source": [
    "# 产生初始种群，假设种群规模为100\n",
    "popSize = 100\n",
    "# 设置特征长度为3\n",
    "needgs = 3\n",
    "# 交叉重组触发概率\n",
    "cross_prob = 0.85\n",
    "# 突变概率\n",
    "mutate_prob = 0.1\n",
    "# 原始特征序号\n",
    "featureIdx = [1,2,3,4]\n",
    "# 产生初始种群\n",
    "individuals = gen_individuals(popSize,needgs,X,featureIdx)\n",
    "adjusts = []\n",
    "for df in individuals['df']:\n",
    "    adjusts.append(get_adjust(std_error, y, df, evaluation_regression))\n",
    "\n",
    "np.array(adjusts)"
   ]
  },
  {
   "cell_type": "markdown",
   "metadata": {},
   "source": [
    "设置最大迭代次数为10000，并设置终止条件为种群中最高适应度除以平均适应度的值alpha不超过1.001\n",
    "\n",
    "经过交叉、变异、选择的过程实现了种群的进化"
   ]
  },
  {
   "cell_type": "code",
   "execution_count": 13,
   "metadata": {},
   "outputs": [],
   "source": [
    "def inter_cross(indiv_list, gene_list, prob):\n",
    "    \"\"\" 对染色体进行交叉操作 \"\"\"\n",
    "    gene_num = len(gene_list[0])\n",
    "    ready_index = list(range(len(gene_list)))\n",
    "    while len(ready_index) >= 2:\n",
    "        d1 = random.choice(ready_index)\n",
    "        ready_index.remove(d1)\n",
    "        d2 = random.choice(ready_index)\n",
    "        ready_index.remove(d2)\n",
    "        if np.random.uniform(0, 1) <= prob:\n",
    "            loc = random.choice(range(gene_num))\n",
    "            # print(d1,d2,\"exchange loc --> \",loc)\n",
    "            # 对数据做交叉操作\n",
    "            if indiv_list is not None:\n",
    "                tmp = indiv_list[d1].iloc[:,loc]\n",
    "                indiv_list[d1].iloc[:,loc] = indiv_list[d2].iloc[:,loc]\n",
    "                indiv_list[d2].iloc[:,loc] = tmp\n",
    "                \n",
    "            # 对基因型做交叉操作\n",
    "            tmp = gene_list[d1][loc]\n",
    "            gene_list[d1][loc] = gene_list[d2][loc]\n",
    "            gene_list[d2][loc] = tmp"
   ]
  },
  {
   "cell_type": "code",
   "execution_count": 14,
   "metadata": {},
   "outputs": [],
   "source": [
    "def mutate(indiv_list, gene_list, prob, input_data, featureIdx, nMax=10):\n",
    "    gene_num = len(gene_list[0])\n",
    "    ready_index = list(range(len(gene_list)))\n",
    "    for i in ready_index:\n",
    "        if np.random.uniform(0, 1) <= prob:\n",
    "            loc = random.choice(range(gene_num))\n",
    "            # print(i,\"mutate on --> \",loc)\n",
    "            tmp = random_get_tree(input_data, featureIdx, nMax) \n",
    "            if indiv_list is not None:\n",
    "                indiv_list[i].iloc[:,loc] = tmp['f_value']\n",
    "            gene_list[i][loc] = tmp['tree_exp']"
   ]
  },
  {
   "cell_type": "code",
   "execution_count": 15,
   "metadata": {},
   "outputs": [],
   "source": [
    "def plot_tree(feature_string, title=None, node_size=5000, font_size=18):\n",
    "    my_dict = transform(feature_string)\n",
    "    root, labels, _ = bitree(my_dict, len(my_dict)-1, 0, labels={})\n",
    "    graph = nx.Graph()\n",
    "    graph, pos = create_graph(graph, root)\n",
    "    nx.draw_networkx(graph, pos, node_size=node_size,width=2,node_color='black',font_color='white',font_size=font_size,with_labels=True,labels=labels)\n",
    "    plt.axis('off')\n",
    "    if title is not None:\n",
    "        plt.title(title)"
   ]
  },
  {
   "cell_type": "code",
   "execution_count": 16,
   "metadata": {},
   "outputs": [],
   "source": [
    "def transform(feature_string):\n",
    "    my_dict={}\n",
    "    pattern = r'g\\([^\\(\\)]*\\)'\n",
    "    so = re.search(pattern, feature_string)\n",
    "    while so:\n",
    "        start, end = so.span()\n",
    "        key = len(my_dict)\n",
    "        my_dict[key]=so.group()\n",
    "        feature_string = feature_string[0:start]+'<'+str(key)+'>'+feature_string[end:]\n",
    "        so = re.search(pattern, feature_string)\n",
    "    return my_dict"
   ]
  },
  {
   "cell_type": "code",
   "execution_count": 17,
   "metadata": {},
   "outputs": [],
   "source": [
    "def bitree(mapping, start_no, index=0, labels={}):\n",
    "    name, left, right = parse(mapping[start_no])\n",
    "    if left is not None:\n",
    "        if type(left) == int:\n",
    "            left_node, s_labels, max_index = bitree(mapping, left, index+1, labels)\n",
    "            labels = s_labels\n",
    "        else:\n",
    "            left_node = Node(index+1, left)\n",
    "            labels[index+1] = left\n",
    "            max_index = index+1\n",
    "    else:\n",
    "        left_node = None\n",
    "    \n",
    "    if right is not None:\n",
    "        if type(right) == int:\n",
    "            right_node, s_labels, max_index = bitree(mapping, right, max_index+1, labels)\n",
    "            labels = s_labels\n",
    "        else:\n",
    "            right_node = Node(max_index+1, right)\n",
    "            labels[max_index+1] = right\n",
    "            max_index = max_index+1\n",
    "    else:\n",
    "        right_node = None\n",
    "        \n",
    "    labels[index] = name\n",
    "    return Node(index, name, left_node, right_node) ,labels, max_index"
   ]
  },
  {
   "cell_type": "code",
   "execution_count": 18,
   "metadata": {},
   "outputs": [],
   "source": [
    "def parse(group_unit):\n",
    "    tmp = group_unit.lstrip(\"g(\").rstrip(\")\").split(',')\n",
    "    tmp = tmp + [None] if len(tmp) == 2 else tmp\n",
    "    return [int(x[1:-1]) if x is not None and re.match(r'<[0-9]+>',x) else x for x in tmp]"
   ]
  },
  {
   "cell_type": "code",
   "execution_count": 19,
   "metadata": {},
   "outputs": [],
   "source": [
    "class Node:\n",
    "    def __init__(self, value, label, left=None, right=None):\n",
    "        self.value = value\n",
    "        self.label = label\n",
    "        self.left = left  \n",
    "        self.right = right"
   ]
  },
  {
   "cell_type": "code",
   "execution_count": 20,
   "metadata": {},
   "outputs": [],
   "source": [
    "def create_graph(G, node, pos={}, x=0, y=0, layer=1):\n",
    "    pos[node.value] = (x, y)\n",
    "    if node.left:\n",
    "        G.add_edge(node.value, node.left.value)\n",
    "        l_x, l_y = x - 1 / layer, y - 1\n",
    "        l_layer = layer + 1\n",
    "        create_graph(G, node.left, x=l_x, y=l_y, pos=pos, layer=l_layer)\n",
    "    if node.right:\n",
    "        G.add_edge(node.value, node.right.value)\n",
    "        r_x, r_y = x + 1 / layer, y - 1\n",
    "        r_layer = layer + 1\n",
    "        create_graph(G, node.right, x=r_x, y=r_y, pos=pos, layer=r_layer)\n",
    "    return G, pos"
   ]
  },
  {
   "cell_type": "code",
   "execution_count": 21,
   "metadata": {},
   "outputs": [
    {
     "name": "stdout",
     "output_type": "stream",
     "text": [
      "第  1  次迭代，最大适应度为  0.08591943708847169  alpha :  37.81021616783306\n",
      "第  100  次迭代，最大适应度为  0.12333812064289865  alpha :  1.3115517283838802\n",
      "第  200  次迭代，最大适应度为  0.12418995555475974  alpha :  1.3893638634377674\n",
      "第  300  次迭代，最大适应度为  0.12480782837384688  alpha :  1.4516179127953797\n",
      "第  400  次迭代，最大适应度为  0.13006510536785792  alpha :  1.5565837346093536\n",
      "第  500  次迭代，最大适应度为  0.130065105367858  alpha :  1.4844009330007006\n",
      "第  600  次迭代，最大适应度为  0.13110915834456696  alpha :  1.3223697070277847\n",
      "第  700  次迭代，最大适应度为  0.131109158344567  alpha :  1.4222408661981065\n",
      "第  800  次迭代，最大适应度为  0.131109158344567  alpha :  1.4256047991453666\n",
      "第  900  次迭代，最大适应度为  0.13417166430488986  alpha :  1.442265551336159\n",
      "第  1000  次迭代，最大适应度为  0.1341716643048899  alpha :  1.534241439151955\n"
     ]
    }
   ],
   "source": [
    "import copy\n",
    "max_epochs = 1000\n",
    "for k in range(max_epochs):\n",
    "    # 0.备份父代个体\n",
    "    pre_indivs = copy.deepcopy(individuals)\n",
    "    pre_adjusts = adjusts.copy()\n",
    "    # 1.交叉\n",
    "    inter_cross(individuals['df'], individuals['gene'], cross_prob)\n",
    "    # 2.变异\n",
    "    mutate(individuals['df'], individuals['gene'], mutate_prob, X, featureIdx)\n",
    "    # 3.计算适应度\n",
    "    adjusts = []\n",
    "    for df in individuals['df']:\n",
    "        adjusts.append(get_adjust(std_error, y, df, evaluation_regression))\n",
    "\n",
    "    # 4.合并，并按adjusts降序排列，取前0.4*popSize个个体进行返回，对剩余的个体随机选取0.6*popSize个返回\n",
    "    pre_gene_keys = [''.join(e) for e in pre_indivs['gene']]\n",
    "    gene_keys = [''.join(e) for e in individuals['gene']]\n",
    "    for i in range(len(pre_gene_keys)):\n",
    "        key = pre_gene_keys[i]\n",
    "        if key not in gene_keys:\n",
    "            individuals['df'].append(pre_indivs['df'][i])\n",
    "            individuals['gene'].append(pre_indivs['gene'][i])\n",
    "            adjusts.append(pre_adjusts[i])\n",
    "\n",
    "    split_val = pd.Series(adjusts).quantile(q=0.6)\n",
    "    index = list(range(len(adjusts)))\n",
    "    need_delete_count = len(adjusts) - popSize\n",
    "    random.shuffle(index)\n",
    "    indices  = []\n",
    "    for i in index:\n",
    "        if need_delete_count > 0:\n",
    "            if adjusts[i] <= split_val:\n",
    "                indices.append(i)\n",
    "                need_delete_count = need_delete_count -1\n",
    "        else:\n",
    "            break\n",
    "\n",
    "    individuals['df'] = [i for j, i in enumerate(individuals['df']) if j not in indices]\n",
    "    individuals['gene'] = [i for j, i in enumerate(individuals['gene']) if j not in indices]\n",
    "    adjusts = [i for j, i in enumerate(adjusts) if j not in indices]\n",
    "    alpha = np.max(adjusts)/np.mean(adjusts)\n",
    "    if k%100 == 99 or k==0:\n",
    "        print(\"第 \",k+1,\" 次迭代，最大适应度为 \",np.max(adjusts),\" alpha : \",alpha)\n",
    "    if np.mean(adjusts) > 0 and alpha < 1.001:\n",
    "        print(\"进化终止，算法已收敛！ 共进化 \",k,\" 代！\")\n",
    "        break"
   ]
  },
  {
   "cell_type": "markdown",
   "metadata": {},
   "source": [
    "提取最佳特征组合，构建新数据集，同时绘制出各特征表达式的二叉树"
   ]
  },
  {
   "cell_type": "code",
   "execution_count": 22,
   "metadata": {},
   "outputs": [
    {
     "data": {
      "text/html": [
       "<div>\n",
       "<style scoped>\n",
       "    .dataframe tbody tr th:only-of-type {\n",
       "        vertical-align: middle;\n",
       "    }\n",
       "\n",
       "    .dataframe tbody tr th {\n",
       "        vertical-align: top;\n",
       "    }\n",
       "\n",
       "    .dataframe thead th {\n",
       "        text-align: right;\n",
       "    }\n",
       "</style>\n",
       "<table border=\"1\" class=\"dataframe\">\n",
       "  <thead>\n",
       "    <tr style=\"text-align: right;\">\n",
       "      <th></th>\n",
       "      <th>g1</th>\n",
       "      <th>g2</th>\n",
       "      <th>g3</th>\n",
       "    </tr>\n",
       "  </thead>\n",
       "  <tbody>\n",
       "    <tr>\n",
       "      <th>0</th>\n",
       "      <td>-0.273897</td>\n",
       "      <td>0.811421</td>\n",
       "      <td>1</td>\n",
       "    </tr>\n",
       "    <tr>\n",
       "      <th>1</th>\n",
       "      <td>-0.146156</td>\n",
       "      <td>0.987183</td>\n",
       "      <td>1</td>\n",
       "    </tr>\n",
       "    <tr>\n",
       "      <th>2</th>\n",
       "      <td>-0.787916</td>\n",
       "      <td>-1.013655</td>\n",
       "      <td>0</td>\n",
       "    </tr>\n",
       "    <tr>\n",
       "      <th>3</th>\n",
       "      <td>-0.260843</td>\n",
       "      <td>0.496239</td>\n",
       "      <td>1</td>\n",
       "    </tr>\n",
       "    <tr>\n",
       "      <th>4</th>\n",
       "      <td>-0.271575</td>\n",
       "      <td>-0.604454</td>\n",
       "      <td>0</td>\n",
       "    </tr>\n",
       "  </tbody>\n",
       "</table>\n",
       "</div>"
      ],
      "text/plain": [
       "         g1        g2  g3\n",
       "0 -0.273897  0.811421   1\n",
       "1 -0.146156  0.987183   1\n",
       "2 -0.787916 -1.013655   0\n",
       "3 -0.260843  0.496239   1\n",
       "4 -0.271575 -0.604454   0"
      ]
     },
     "execution_count": 22,
     "metadata": {},
     "output_type": "execute_result"
    }
   ],
   "source": [
    "#提取适应度最高的一个个体，获取其特征\n",
    "loc = np.argmax(adjusts)\n",
    "new_x = individuals['df'][loc]\n",
    "new_x.head()"
   ]
  },
  {
   "cell_type": "code",
   "execution_count": 24,
   "metadata": {},
   "outputs": [
    {
     "data": {
      "image/png": "[encoded data removed]",
      "text/plain": [
       "<Figure size 720x1440 with 3 Axes>"
      ]
     },
     "metadata": {},
     "output_type": "display_data"
    }
   ],
   "source": [
    "import matplotlib.pyplot as plt\n",
    "import networkx as nx\n",
    "import matplotlib\n",
    "import re\n",
    "\n",
    "matplotlib.rcParams['font.family'] = 'Arial Unicode MS'\n",
    "counter = 1\n",
    "titles=['特征-g1','特征-g2','特征-g3']\n",
    "plt.figure(figsize=(10,20))\n",
    "for e in individuals['gene'][loc]:\n",
    "    plt.subplot(3,1,counter)\n",
    "    plot_tree(e, title=titles[counter - 1],node_size= 1000,font_size=13)\n",
    "    counter = counter + 1\n",
    "plt.show()"
   ]
  }
 ],
 "metadata": {
  "kernelspec": {
   "display_name": "Python 3",
   "language": "python",
   "name": "python3"
  },
  "language_info": {
   "codemirror_mode": {
    "name": "ipython",
    "version": 3
   },
   "file_extension": ".py",
   "mimetype": "text/x-python",
   "name": "python",
   "nbconvert_exporter": "python",
   "pygments_lexer": "ipython3",
   "version": "3.7.5"
  }
 },
 "nbformat": 4,
 "nbformat_minor": 4
}
