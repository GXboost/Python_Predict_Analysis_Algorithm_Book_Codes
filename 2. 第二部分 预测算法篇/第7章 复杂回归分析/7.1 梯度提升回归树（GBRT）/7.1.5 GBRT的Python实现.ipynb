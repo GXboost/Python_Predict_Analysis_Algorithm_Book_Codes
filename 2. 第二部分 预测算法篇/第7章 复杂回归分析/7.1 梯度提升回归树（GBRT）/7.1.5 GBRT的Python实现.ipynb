{
 "cells": [
  {
   "cell_type": "markdown",
   "metadata": {},
   "source": [
    "使用GBRT算法建立Sepal.Length、Sepal.Width、Petal.Length对Petal.Width的回归模型。首先，建立函数gbrt_build，使用训练数据以构建GBRT模型"
   ]
  },
  {
   "cell_type": "code",
   "execution_count": 1,
   "metadata": {},
   "outputs": [],
   "source": [
    "from sklearn import tree\n",
    "import numpy as np\n",
    "\n",
    "def gbrt_build(x,y,consame=5,maxiter=10000,shrinkage=0.0005):\n",
    "    \"\"\"\n",
    "    建立函数构建GBRT模型\n",
    "    x : 输入数据，解释变量\n",
    "    y : 输出数据，响应变量\n",
    "    consame : 当连续consame次得到的残差平方和相等时算法终止\n",
    "    maxiter : 迭代次数的上限\n",
    "    shrinkage : 缩放因子\n",
    "    \"\"\"\n",
    "    # 使平方损失函数最小化的常数值为对应数据的平均值，即以均值初始化f0\n",
    "    f0 = np.mean(y)\n",
    "    #初始化变量\n",
    "    rss = []\n",
    "    model_list = [f0]\n",
    "    # 进入循环，当连续consame次，得到的残差平方和相等或超过最大迭代次数时终止算法\n",
    "    for i in range(maxiter):\n",
    "        # 计算负梯度，当损失函数为平方损失函数时，负梯度即为残差\n",
    "        revals = y - f0\n",
    "        # 根据残差学习一棵回归树，设置分割点满足的最小样本量为 30\n",
    "        clf = tree.DecisionTreeRegressor(min_samples_leaf=30)\n",
    "        clf = clf.fit(x, revals)\n",
    "        # 更新回归树，并生成估计结果\n",
    "        model_list.append(clf)\n",
    "        f0 = f0 + shrinkage*clf.predict(x)\n",
    "        # 统计残差平方和\n",
    "        rss.append(np.sum((f0 - y)**2))\n",
    "        # 判断是否满足终止条件\n",
    "        if len(rss) >= consame and np.std(rss[(len(rss)-consame+1):len(rss)]) == 0 :\n",
    "            print(\"共迭代\",m+1,\"次，满足终止条件退出迭代！\")\n",
    "            break\n",
    "    return rss,model_list"
   ]
  },
  {
   "cell_type": "markdown",
   "metadata": {},
   "source": [
    "在使用iris数据建立GBRT模型之前，需要对其进行简单处理，然后调用函数gbrt_build，完成模型的训练"
   ]
  },
  {
   "cell_type": "code",
   "execution_count": 2,
   "metadata": {},
   "outputs": [
    {
     "data": {
      "text/plain": [
       "count    10000.000000\n",
       "mean         9.443136\n",
       "std         11.613604\n",
       "min          2.954312\n",
       "25%          3.230344\n",
       "50%          3.919855\n",
       "75%          9.398138\n",
       "max         59.853140\n",
       "dtype: float64"
      ]
     },
     "execution_count": 2,
     "metadata": {},
     "output_type": "execute_result"
    }
   ],
   "source": [
    "import pandas as pd\n",
    "from sklearn.model_selection import train_test_split\n",
    "iris = pd.read_csv(\"http://image.cador.cn/data/iris.csv\")\n",
    "x,y = iris.drop(columns=['Species','Petal.Width']),iris['Petal.Width']\n",
    "x_train, x_test, y_train, y_test = train_test_split(x, y, test_size=0.33, random_state=1)\n",
    "rss,model_list = gbrt_build(x_train,y_train)\n",
    "\n",
    "#查看rss的统计信息\n",
    "pd.Series(rss).describe()"
   ]
  },
  {
   "cell_type": "markdown",
   "metadata": {},
   "source": [
    "为进一步直观呈现每次迭代残差平方和的变化，现绘制二维图形"
   ]
  },
  {
   "cell_type": "code",
   "execution_count": 3,
   "metadata": {},
   "outputs": [
    {
     "data": {
      "image/png": "[encoded data removed]",
      "text/plain": [
       "<Figure size 432x288 with 1 Axes>"
      ]
     },
     "metadata": {
      "needs_background": "light"
     },
     "output_type": "display_data"
    }
   ],
   "source": [
    "#根据rss绘制曲线，以直观观察残差平方和的变化趋势\n",
    "import matplotlib\n",
    "import matplotlib.pyplot as plt\n",
    "matplotlib.rcParams['font.family'] = 'Arial Unicode MS'\n",
    "plt.plot(range(10000),rss[0:10000],'-',c='black',linewidth=3)\n",
    "plt.xlabel(\"迭代次数\",fontsize=15)\n",
    "plt.ylabel(\"RSS\",fontsize=15)\n",
    "plt.show()"
   ]
  },
  {
   "cell_type": "markdown",
   "metadata": {},
   "source": [
    "现使用Python实现预测函数gbrt_predict，即可对新数据进行预测"
   ]
  },
  {
   "cell_type": "code",
   "execution_count": 4,
   "metadata": {},
   "outputs": [],
   "source": [
    "def gbrt_predict(x,gml_list,shrinkage):\n",
    "    \"\"\"\n",
    "    建立预测函数，对新数据进行预测\n",
    "    x : 进行预测的新数据\n",
    "    gml_list : 即GBRT的模型列表\n",
    "    shrinkage : 训练模型时，指定的shrinkage参数\n",
    "    \"\"\"\n",
    "    f0 = gml_list[0]\n",
    "    for i in range(1,len(gml_list)):\n",
    "        f0 = f0 + shrinkage*gml_list[i].predict(x)\n",
    "    return f0"
   ]
  },
  {
   "cell_type": "markdown",
   "metadata": {},
   "source": [
    "对测试数据集x_test，调用预测函数gbrt_predict，根据预测结果和真实结果，分析预测效果"
   ]
  },
  {
   "cell_type": "code",
   "execution_count": 5,
   "metadata": {},
   "outputs": [
    {
     "data": {
      "text/plain": [
       "1.3384897597030645"
      ]
     },
     "execution_count": 5,
     "metadata": {},
     "output_type": "execute_result"
    }
   ],
   "source": [
    "np.sum((y_test - gbrt_predict(x_test,model_list,0.0005))**2)"
   ]
  },
  {
   "cell_type": "markdown",
   "metadata": {},
   "source": [
    "为说明该方法对预测建模提升的效果，现直接使用回归决策树基于训练集x_train,y_train建模，并对测试数据集x_test进行预测，同时分析预测效果"
   ]
  },
  {
   "cell_type": "code",
   "execution_count": 6,
   "metadata": {},
   "outputs": [
    {
     "data": {
      "text/plain": [
       "1.5676935145052517"
      ]
     },
     "execution_count": 6,
     "metadata": {},
     "output_type": "execute_result"
    }
   ],
   "source": [
    "clf = tree.DecisionTreeRegressor(min_samples_leaf=30)\n",
    "clf = clf.fit(x_train, y_train)\n",
    "np.sum((y_test - clf.predict(x_test))**2)"
   ]
  }
 ],
 "metadata": {
  "kernelspec": {
   "display_name": "Python 3",
   "language": "python",
   "name": "python3"
  },
  "language_info": {
   "codemirror_mode": {
    "name": "ipython",
    "version": 3
   },
   "file_extension": ".py",
   "mimetype": "text/x-python",
   "name": "python",
   "nbconvert_exporter": "python",
   "pygments_lexer": "ipython3",
   "version": "3.7.5"
  }
 },
 "nbformat": 4,
 "nbformat_minor": 4
}
