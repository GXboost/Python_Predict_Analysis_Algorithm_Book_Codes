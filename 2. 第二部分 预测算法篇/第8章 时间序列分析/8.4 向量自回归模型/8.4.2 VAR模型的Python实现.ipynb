{
 "cells": [
  {
   "cell_type": "markdown",
   "metadata": {},
   "source": [
    "分析训练集中这四个指标的平稳性，对于不平稳的，要对其进行差分运算，使差分后的序列变得平稳，然后才能建立VAR模型"
   ]
  },
  {
   "cell_type": "code",
   "execution_count": 1,
   "metadata": {},
   "outputs": [
    {
     "name": "stdout",
     "output_type": "stream",
     "text": [
      "指标 e 单位根检验的p值为：  0.8663327869244546\n",
      "指标 prod 单位根检验的p值为：  0.8586871782128878\n",
      "指标 rw 单位根检验的p值为：  0.0013531962631896082\n",
      "指标 U 单位根检验的p值为：  0.11133330647767575\n"
     ]
    }
   ],
   "source": [
    "import pandas as pd\n",
    "import numpy as np\n",
    "src_canada = pd.read_csv(\"http://image.cador.cn/data/canada.csv\")\n",
    "val_columns = ['e','prod','rw','U']\n",
    "v_std = src_canada[val_columns].apply(lambda x:np.std(x)).values\n",
    "v_mean = src_canada[val_columns].apply(lambda x:np.mean(x)).values\n",
    "canada = src_canada[val_columns].apply(lambda x:(x-np.mean(x))/np.std(x))\n",
    "train = canada.iloc[0:-8]\n",
    "\n",
    "import statsmodels.tsa.stattools as stat\n",
    "for col in val_columns:\n",
    "    pvalue = stat.adfuller(train[col],1)[1]\n",
    "    print(\"指标\",col,\"单位根检验的p值为： \",pvalue)"
   ]
  },
  {
   "cell_type": "markdown",
   "metadata": {},
   "source": [
    "进一步进行差分运算（为便于处理，这里对四个指标同时进行差分）"
   ]
  },
  {
   "cell_type": "code",
   "execution_count": 2,
   "metadata": {},
   "outputs": [
    {
     "name": "stdout",
     "output_type": "stream",
     "text": [
      "指标 e 单位根检验的p值为：  0.0004156438933942739\n",
      "指标 prod 单位根检验的p值为：  1.2492333501288617e-08\n",
      "指标 rw 单位根检验的p值为：  4.5335282339883554e-06\n",
      "指标 U 单位根检验的p值为：  0.00023868665380719157\n"
     ]
    }
   ],
   "source": [
    "# 由于这四个指标都不平稳，因此需要进行合适的差分运算\n",
    "train_diff = train.apply(lambda x: np.diff(x),axis=0)\n",
    "\n",
    "for col in val_columns:\n",
    "    pvalue = stat.adfuller(train_diff[col],1)[1]\n",
    "    print(\"指标\",col,\"单位根检验的p值为： \",pvalue)"
   ]
  },
  {
   "cell_type": "markdown",
   "metadata": {},
   "source": [
    "我们使用最小二乘法，求解每个方程的系数，并通过逐渐增加阶数，为模型定阶"
   ]
  },
  {
   "cell_type": "code",
   "execution_count": 3,
   "metadata": {},
   "outputs": [
    {
     "data": {
      "text/html": [
       "<div>\n",
       "<style scoped>\n",
       "    .dataframe tbody tr th:only-of-type {\n",
       "        vertical-align: middle;\n",
       "    }\n",
       "\n",
       "    .dataframe tbody tr th {\n",
       "        vertical-align: top;\n",
       "    }\n",
       "\n",
       "    .dataframe thead th {\n",
       "        text-align: right;\n",
       "    }\n",
       "</style>\n",
       "<table border=\"1\" class=\"dataframe\">\n",
       "  <thead>\n",
       "    <tr style=\"text-align: right;\">\n",
       "      <th></th>\n",
       "      <th>P</th>\n",
       "      <th>AIC</th>\n",
       "    </tr>\n",
       "  </thead>\n",
       "  <tbody>\n",
       "    <tr>\n",
       "      <th>0</th>\n",
       "      <td>1</td>\n",
       "      <td>-19.996796</td>\n",
       "    </tr>\n",
       "    <tr>\n",
       "      <th>1</th>\n",
       "      <td>2</td>\n",
       "      <td>-17.615455</td>\n",
       "    </tr>\n",
       "    <tr>\n",
       "      <th>2</th>\n",
       "      <td>3</td>\n",
       "      <td>-9.407306</td>\n",
       "    </tr>\n",
       "    <tr>\n",
       "      <th>3</th>\n",
       "      <td>4</td>\n",
       "      <td>6.907540</td>\n",
       "    </tr>\n",
       "    <tr>\n",
       "      <th>4</th>\n",
       "      <td>5</td>\n",
       "      <td>34.852248</td>\n",
       "    </tr>\n",
       "    <tr>\n",
       "      <th>5</th>\n",
       "      <td>6</td>\n",
       "      <td>77.620404</td>\n",
       "    </tr>\n",
       "    <tr>\n",
       "      <th>6</th>\n",
       "      <td>7</td>\n",
       "      <td>138.382810</td>\n",
       "    </tr>\n",
       "    <tr>\n",
       "      <th>7</th>\n",
       "      <td>8</td>\n",
       "      <td>220.671801</td>\n",
       "    </tr>\n",
       "    <tr>\n",
       "      <th>8</th>\n",
       "      <td>9</td>\n",
       "      <td>328.834718</td>\n",
       "    </tr>\n",
       "    <tr>\n",
       "      <th>9</th>\n",
       "      <td>10</td>\n",
       "      <td>466.815468</td>\n",
       "    </tr>\n",
       "  </tbody>\n",
       "</table>\n",
       "</div>"
      ],
      "text/plain": [
       "    P         AIC\n",
       "0   1  -19.996796\n",
       "1   2  -17.615455\n",
       "2   3   -9.407306\n",
       "3   4    6.907540\n",
       "4   5   34.852248\n",
       "5   6   77.620404\n",
       "6   7  138.382810\n",
       "7   8  220.671801\n",
       "8   9  328.834718\n",
       "9  10  466.815468"
      ]
     },
     "execution_count": 3,
     "metadata": {},
     "output_type": "execute_result"
    }
   ],
   "source": [
    "# 模型阶数从1开始逐一增加\n",
    "rows, cols = train_diff.shape\n",
    "aicList = []\n",
    "lmList = []\n",
    "\n",
    "for p in range(1,11):\n",
    "    baseData = None\n",
    "    for i in range(p,rows):\n",
    "        tmp_list = list(train_diff.iloc[i]) + list(train_diff.iloc[i-p:i].values.flatten())\n",
    "        if baseData is None:\n",
    "            baseData = [tmp_list]\n",
    "        else:\n",
    "            baseData = np.r_[baseData, [tmp_list]]\n",
    "    X = np.c_[[1]*baseData.shape[0],baseData[:,cols:]]\n",
    "    Y = baseData[:,0:cols]\n",
    "    coefMatrix = np.matmul(np.matmul(np.linalg.inv(np.matmul(X.T,X)),X.T),Y)\n",
    "    aic = np.log(np.linalg.det(np.cov(Y - np.matmul(X,coefMatrix),rowvar=False))) + 2*(coefMatrix.shape[0]-1)**2*p/baseData.shape[0]\n",
    "    aicList.append(aic)\n",
    "    lmList.append(coefMatrix)\n",
    "\n",
    "#对比查看阶数和AIC\n",
    "pd.DataFrame({\"P\":range(1,11),\"AIC\":aicList})"
   ]
  },
  {
   "cell_type": "markdown",
   "metadata": {},
   "source": [
    "基于该模型，对未来8期的数据进行预测，并与验证数据集进行比较分析"
   ]
  },
  {
   "cell_type": "code",
   "execution_count": 4,
   "metadata": {},
   "outputs": [
    {
     "data": {
      "text/plain": [
       "array([[ 0.20065717, -0.7208273 ,  0.08095578, -0.18725653],\n",
       "       [ 0.03650856, -0.08061888,  0.05900709, -0.22667618],\n",
       "       [ 0.03751544, -0.87174186,  0.17291551,  0.10381011],\n",
       "       [-0.04826459, -0.06498827,  0.45879439,  0.34885492],\n",
       "       [-0.15647981, -0.6096229 , -1.1219943 , -0.12520269],\n",
       "       [ 0.51480518, -0.51864268,  0.7123945 , -0.2760806 ],\n",
       "       [ 0.32312138, -0.06077591, -0.14816924, -0.39923473],\n",
       "       [-0.34031027,  0.78080541,  1.31294708,  0.01779691]])"
      ]
     },
     "execution_count": 4,
     "metadata": {},
     "output_type": "execute_result"
    }
   ],
   "source": [
    "p = np.argmin(aicList)+1\n",
    "n = rows\n",
    "preddf = None\n",
    "for i in range(8):\n",
    "    predData = list(train_diff.iloc[n+i-p:n+i].values.flatten())\n",
    "    predVals = np.matmul([1]+predData,lmList[p-1])\n",
    "    # 使用逆差分运算，还原预测值\n",
    "    predVals=train.iloc[n+i,:]+predVals\n",
    "    if preddf is None:\n",
    "        preddf = [predVals]\n",
    "    else:\n",
    "        preddf = np.r_[preddf, [predVals]]\n",
    "        \n",
    "    # 为train增加一条新记录\n",
    "    train = train.append(canada[n+i+1:n+i+2],ignore_index=True)\n",
    "    # 为train_diff增加一条新记录\n",
    "    df = pd.DataFrame(list(canada[n+i+1:n+i+2].values - canada[n+i:n+i+1].values), columns=canada.columns)\n",
    "    train_diff = train_diff.append(df,ignore_index=True)\n",
    "    \n",
    "preddf = preddf*v_std + v_mean\n",
    "\n",
    "#分析预测残差情况\n",
    "preddf - src_canada[canada.columns].iloc[-8:].values"
   ]
  },
  {
   "cell_type": "code",
   "execution_count": 5,
   "metadata": {},
   "outputs": [
    {
     "data": {
      "text/plain": [
       "count    32.000000\n",
       "mean      0.799252\n",
       "std       1.551933\n",
       "min       0.003811\n",
       "25%       0.018936\n",
       "50%       0.111144\n",
       "75%       0.264179\n",
       "max       5.760963\n",
       "dtype: float64"
      ]
     },
     "execution_count": 5,
     "metadata": {},
     "output_type": "execute_result"
    }
   ],
   "source": [
    "#统计预测百分误差率分布\n",
    "pd.Series((np.abs(preddf - src_canada[canada.columns].iloc[-8:].values)*100/src_canada[canada.columns].iloc[-8:].values).flatten()).describe()"
   ]
  },
  {
   "cell_type": "markdown",
   "metadata": {},
   "source": [
    "绘制二维图表观察预测数据与真实数据的逼近情况"
   ]
  },
  {
   "cell_type": "code",
   "execution_count": 6,
   "metadata": {},
   "outputs": [
    {
     "data": {
      "image/png": "[encoded data removed]",
      "text/plain": [
       "<Figure size 720x504 with 4 Axes>"
      ]
     },
     "metadata": {
      "needs_background": "light"
     },
     "output_type": "display_data"
    }
   ],
   "source": [
    "import matplotlib.pyplot as plt\n",
    "import matplotlib\n",
    "# 以下 font.family 设置仅适用于 Mac系统，其它系统请使用对应字体名称\n",
    "matplotlib.rcParams['font.family'] = 'Arial Unicode MS'\n",
    "m = 16\n",
    "xts = src_canada[['year','season']].iloc[-m:].apply(lambda x:str(x[0])+'-'+x[1],axis=1).values\n",
    "fig, axes = plt.subplots(2,2,figsize=(10,7))\n",
    "index = 0\n",
    "for ax in axes.flatten():\n",
    "    ax.plot(range(m),src_canada[canada.columns].iloc[-m:,index],'-',c='lightgray',linewidth=2,label=\"real\")\n",
    "    ax.plot(range(m-8,m),preddf[:,index],'o--',c='black',linewidth=2,label=\"predict\")\n",
    "    ax.set_xticklabels(xts,rotation=50)\n",
    "    ax.set_ylabel(\"$\"+canada.columns[index]+\"$\",fontsize=14)\n",
    "    ax.legend()\n",
    "    index = index + 1\n",
    "plt.tight_layout()\n",
    "plt.show()"
   ]
  }
 ],
 "metadata": {
  "kernelspec": {
   "display_name": "Python 3",
   "language": "python",
   "name": "python3"
  },
  "language_info": {
   "codemirror_mode": {
    "name": "ipython",
    "version": 3
   },
   "file_extension": ".py",
   "mimetype": "text/x-python",
   "name": "python",
   "nbconvert_exporter": "python",
   "pygments_lexer": "ipython3",
   "version": "3.7.5"
  }
 },
 "nbformat": 4,
 "nbformat_minor": 4
}
