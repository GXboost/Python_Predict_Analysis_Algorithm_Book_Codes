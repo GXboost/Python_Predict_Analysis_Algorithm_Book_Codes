{
 "cells": [
  {
   "cell_type": "markdown",
   "metadata": {},
   "source": [
    "### 使用eclat函数挖掘频繁项集"
   ]
  },
  {
   "cell_type": "code",
   "execution_count": 1,
   "metadata": {},
   "outputs": [
    {
     "data": {
      "image/png": "[encoded data removed]",
      "text/plain": [
       "<Figure size 360x216 with 1 Axes>"
      ]
     },
     "metadata": {
      "needs_background": "light"
     },
     "output_type": "display_data"
    }
   ],
   "source": [
    "from fim import eclat\n",
    "import pandas as pd\n",
    "import matplotlib.pyplot as plt\n",
    "%matplotlib inline\n",
    "\n",
    "#根据示例数据，手动输入构建包含事务信息的list对象\n",
    "transactions=[['A', 'D'], ['A', 'E', 'F'], ['A', 'B', 'C', 'E', 'F'],\n",
    "              ['B', 'C', 'D'], ['A', 'C', 'D', 'E', 'F'], ['A', 'B', 'D', 'F']]\n",
    "rules = eclat(tracts=transactions, zmin=1, supp=50)\n",
    "plt.figure(figsize=(5, 3))\n",
    "tmp = pd.DataFrame(rules).sort_values(1, ascending=True)\n",
    "tmp = tmp.set_index(tmp[0])\n",
    "tmp[1].plot(kind='barh', color='gray')\n",
    "plt.ylabel(\"freq itemsets\")\n",
    "plt.xlabel(\"count\")\n",
    "plt.show()"
   ]
  }
 ],
 "metadata": {
  "kernelspec": {
   "display_name": "Python 3",
   "language": "python",
   "name": "python3"
  },
  "language_info": {
   "codemirror_mode": {
    "name": "ipython",
    "version": 3
   },
   "file_extension": ".py",
   "mimetype": "text/x-python",
   "name": "python",
   "nbconvert_exporter": "python",
   "pygments_lexer": "ipython3",
   "version": "3.7.5"
  }
 },
 "nbformat": 4,
 "nbformat_minor": 4
}
