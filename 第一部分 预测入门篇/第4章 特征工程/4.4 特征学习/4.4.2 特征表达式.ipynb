{
 "cells": [
  {
   "cell_type": "markdown",
   "metadata": {},
   "source": [
    "自定义函数g实现表达式的运算功能和表现能力"
   ]
  },
  {
   "cell_type": "code",
   "execution_count": null,
   "metadata": {},
   "outputs": [],
   "source": [
    "def g(f, a, b=None):\n",
    "    \"\"\"\n",
    "    f: 一元或二元运算函数\n",
    "    a: 第一个参数\n",
    "    b: 如果f是一元运算函数，则b为空，否则代表二元运算的第二个参数\n",
    "    \"\"\"\n",
    "    if b is None:\n",
    "        return f(a)\n",
    "    else:\n",
    "        return f(a,b)"
   ]
  },
  {
   "cell_type": "markdown",
   "metadata": {},
   "source": [
    "针对常见的一元运算（对数、平方根、平方、立方、倒数、sigmoid、tanh、relu、binary）、二元运算(加、减、乘、除)可重新定义函数"
   ]
  },
  {
   "cell_type": "code",
   "execution_count": 2,
   "metadata": {},
   "outputs": [],
   "source": [
    "import numpy as np\n",
    "\n",
    "min_number = 0.01\n",
    "\n",
    "# 一元运算\n",
    "def log(x):\n",
    "    return np.sign(x)*np.log2(np.abs(x)+1)\n",
    "\n",
    "def sqrt(x):\n",
    "    return np.sqrt(x-np.min(x)+min_number)\n",
    "\n",
    "def pow2(x):\n",
    "    return x**2\n",
    "\n",
    "def pow3(x):\n",
    "    return x**3\n",
    "\n",
    "def inv(x):\n",
    "    return 1*np.sign(x)/(np.abs(x)+min_number)\n",
    "\n",
    "def sigmoid(x):\n",
    "    if np.std(x) < min_number:\n",
    "        return x\n",
    "    x = (x - np.mean(x))/np.std(x)\n",
    "    return (1 + np.exp(-x))**(-1)\n",
    "\n",
    "def tanh(x):\n",
    "    if np.std(x) < min_number:\n",
    "        return x\n",
    "    x = (x - np.mean(x))/np.std(x)\n",
    "    return (np.exp(x) - np.exp(-x))/(np.exp(x) + np.exp(-x))\n",
    "\n",
    "def relu(x):\n",
    "    if np.std(x) < min_number:\n",
    "        return x\n",
    "    x = (x - np.mean(x))/np.std(x)\n",
    "    return np.array([e if e > 0 else 0 for e in x])\n",
    "\n",
    "def binary(x):\n",
    "    if np.std(x) < min_number:\n",
    "        return x\n",
    "    x = (x - np.mean(x))/np.std(x)\n",
    "    return np.array([1 if e > 0 else 0 for e in x])\n",
    "\n",
    "# 二元运算\n",
    "def add(x,y):\n",
    "    return x + y\n",
    "\n",
    "def sub(x,y):\n",
    "    return x - y\n",
    "\n",
    "def times(x,y):\n",
    "    return x * y\n",
    "\n",
    "def div(x,y):\n",
    "    return x*np.sign(y)/(np.abs(y)+min_number)"
   ]
  },
  {
   "cell_type": "markdown",
   "metadata": {},
   "source": [
    "表达式的计算"
   ]
  },
  {
   "cell_type": "code",
   "execution_count": 3,
   "metadata": {},
   "outputs": [
    {
     "data": {
      "text/plain": [
       "50.219458431129446"
      ]
     },
     "execution_count": 3,
     "metadata": {},
     "output_type": "execute_result"
    }
   ],
   "source": [
    "g(times,g(add,g(np.sin,5),10),g(log,46))"
   ]
  },
  {
   "cell_type": "markdown",
   "metadata": {},
   "source": [
    "定义函数gen_full_tree_exp"
   ]
  },
  {
   "cell_type": "code",
   "execution_count": 4,
   "metadata": {},
   "outputs": [],
   "source": [
    "import random\n",
    "\n",
    "# 定义二元运算函数的集合\n",
    "two_group = ['add', 'sub', 'times', 'div']\n",
    "\n",
    "# 定义一元运算函数的集合\n",
    "one_group = ['log', 'sqrt', 'pow2', 'pow3', 'inv', 'sigmoid', 'tanh', 'relu', 'binary']\n",
    "\n",
    "# 随机增加一元运算符\n",
    "def add_one_group(feature_string, prob=0.3):\n",
    "    return 'g('+random.choice(one_group)+','+feature_string+')' if np.random.uniform(0, 1) < prob else feature_string\n",
    "\n",
    "# 构建满二叉树，并生成数学表达式\n",
    "def gen_full_tree_exp(var_flag_array):\n",
    "    half_n = len(var_flag_array)//2\n",
    "    middle_array = []\n",
    "    for i in range(half_n):\n",
    "        if var_flag_array[i] == '0' and var_flag_array[i+half_n] != '0':\n",
    "            middle_array.append('g('+random.choice(one_group)+','+add_one_group(var_flag_array[i+half_n])+')')\n",
    "        elif var_flag_array[i] != '0' and var_flag_array[i+half_n] == '0':\n",
    "            middle_array.append('g('+random.choice(one_group)+','+add_one_group(var_flag_array[i])+')')\n",
    "        elif var_flag_array[i] != '0' and var_flag_array[i+half_n] != '0':\n",
    "            middle_array.append('g('+random.choice(two_group)+','+add_one_group(var_flag_array[i])+','+add_one_group(var_flag_array[i+half_n])+')')\n",
    "    if len(middle_array) == 1:\n",
    "        return add_one_group(middle_array[0])\n",
    "    else:\n",
    "        return gen_full_tree_exp(middle_array)"
   ]
  },
  {
   "cell_type": "markdown",
   "metadata": {},
   "source": [
    "假设原始属性的下标为1~8，nMax=10，'0'为虚拟特征，则从原始属性中随机选取N个属性"
   ]
  },
  {
   "cell_type": "code",
   "execution_count": 5,
   "metadata": {},
   "outputs": [
    {
     "data": {
      "text/plain": [
       "['0',\n",
       " 'X8',\n",
       " 'X6',\n",
       " '0',\n",
       " 'X8',\n",
       " '0',\n",
       " '0',\n",
       " 'X6',\n",
       " 'X4',\n",
       " 'X1',\n",
       " '0',\n",
       " 'X5',\n",
       " '0',\n",
       " 'X1',\n",
       " 'X4',\n",
       " 'X8']"
      ]
     },
     "execution_count": 5,
     "metadata": {},
     "output_type": "execute_result"
    }
   ],
   "source": [
    "# 随机抽取 N 个特征下标\n",
    "nMax=10\n",
    "N = random.choice(range(2,nMax+1))\n",
    "\n",
    "# 定义原始数据集中属性的下标1-8\n",
    "featureIdx = range(1,9)\n",
    "select_feature_index = [random.choice(featureIdx) for i in range(N)]+[0]*int(2**np.ceil(np.log2(N)) - N)\n",
    "random.shuffle(select_feature_index)\n",
    "select_feature_index = ['X'+str(e) if e> 0 else '0' for e in select_feature_index]\n",
    "select_feature_index"
   ]
  },
  {
   "cell_type": "markdown",
   "metadata": {},
   "source": [
    "按满二叉树方式生成特征表达式"
   ]
  },
  {
   "cell_type": "code",
   "execution_count": 6,
   "metadata": {},
   "outputs": [
    {
     "data": {
      "text/plain": [
       "'g(tanh,g(times,g(times,g(add,g(sqrt,X4),g(pow3,X8)),g(div,g(inv,g(sqrt,X6)),g(binary,X4))),g(binary,g(add,g(pow2,g(times,g(sqrt,g(sub,X8,X1)),g(pow3,g(pow3,X1)))),g(div,g(inv,X5),g(pow2,g(times,X6,X8)))))))'"
      ]
     },
     "execution_count": 6,
     "metadata": {},
     "output_type": "execute_result"
    }
   ],
   "source": [
    "tree_exp = gen_full_tree_exp(select_feature_index)\n",
    "tree_exp"
   ]
  },
  {
   "cell_type": "markdown",
   "metadata": {},
   "source": [
    "定义函数gen_side_tree_exp"
   ]
  },
  {
   "cell_type": "code",
   "execution_count": 7,
   "metadata": {},
   "outputs": [],
   "source": [
    "#构建偏二叉树，并生成数学表达式\n",
    "def gen_side_tree_exp(var_flag_array):\n",
    "    if len(var_flag_array) == 1:\n",
    "        return add_one_group(var_flag_array[0])\n",
    "    else:\n",
    "        var_flag_array[1] = 'g('+random.choice(two_group)+','+add_one_group(var_flag_array[0])+','+add_one_group(var_flag_array[1])+')'\n",
    "        del var_flag_array[0]\n",
    "        return gen_side_tree_exp(var_flag_array)"
   ]
  },
  {
   "cell_type": "markdown",
   "metadata": {},
   "source": [
    "从原始属性中随机选取N个属性"
   ]
  },
  {
   "cell_type": "code",
   "execution_count": 8,
   "metadata": {},
   "outputs": [
    {
     "data": {
      "text/plain": [
       "['X6', 'X6', 'X2']"
      ]
     },
     "execution_count": 8,
     "metadata": {},
     "output_type": "execute_result"
    }
   ],
   "source": [
    "N = random.choice(range(2,nMax+1))\n",
    "select_feature_index = ['X'+str(e) for e in [random.choice(featureIdx) for i in range(N)]]\n",
    "select_feature_index"
   ]
  },
  {
   "cell_type": "markdown",
   "metadata": {},
   "source": [
    "按偏二叉树方式生成特征表达式"
   ]
  },
  {
   "cell_type": "code",
   "execution_count": 9,
   "metadata": {},
   "outputs": [
    {
     "data": {
      "text/plain": [
       "'g(div,g(times,g(sqrt,X6),X6),g(log,X2))'"
      ]
     },
     "execution_count": 9,
     "metadata": {},
     "output_type": "execute_result"
    }
   ],
   "source": [
    "tree_exp = gen_side_tree_exp(select_feature_index)\n",
    "tree_exp"
   ]
  },
  {
   "cell_type": "markdown",
   "metadata": {},
   "source": [
    "编写Python函数random_get_tree，实现特征表达式的随机生成"
   ]
  },
  {
   "cell_type": "code",
   "execution_count": 10,
   "metadata": {},
   "outputs": [],
   "source": [
    "def random_get_tree(input_data,featureIdx,nMax=10):\n",
    "    \"\"\" \n",
    "    从原始数据特征中，随机获取特征表达树  \n",
    "    featureIdx: 原始特征的下标数值，最小从1开始\n",
    "    nMax:一次最多从特征中可放回抽样次数，默认为10\n",
    "    \"\"\"\n",
    "    data = pd.DataFrame({\"X\"+str(e):input_data.iloc[:,(e-1)].values for e in featureIdx})\n",
    "    \n",
    "    # 随机抽取N个特征下标\n",
    "    N = random.choice(range(2,nMax+1))\n",
    "    \n",
    "    # 随机决定是使用满二叉树还是偏二叉树\n",
    "    if random.choice([0,1]) == 1:\n",
    "        # 选择满二叉树\n",
    "        select_feature_index = [random.choice(featureIdx) for i in range(N)]+[0]*int(2**np.ceil(np.log2(N)) - N)\n",
    "        random.shuffle(select_feature_index)\n",
    "        select_feature_index = ['data.X'+str(e)+\".values\" if e> 0 else '0' for e in select_feature_index]\n",
    "        tree_exp = gen_full_tree_exp(select_feature_index)\n",
    "    else:\n",
    "        # 选择偏二叉树\n",
    "        select_feature_index = ['data.X'+str(e)+\".values\" for e in [random.choice(featureIdx) for i in range(N)]]\n",
    "        tree_exp =  gen_side_tree_exp(select_feature_index)\n",
    "    return {\"f_value\":eval(tree_exp),\"tree_exp\":tree_exp.replace(\"data.\",\"\").replace(\".values\",\"\")}"
   ]
  },
  {
   "cell_type": "markdown",
   "metadata": {},
   "source": [
    "以iris数据集为例，其特征下标为1:4，则使用random_get_tree函数随机生成一个特征表达式"
   ]
  },
  {
   "cell_type": "code",
   "execution_count": 11,
   "metadata": {},
   "outputs": [
    {
     "data": {
      "text/plain": [
       "'g(log,g(sub,g(div,X1,g(relu,X2)),g(sub,g(tanh,X2),g(relu,X3))))'"
      ]
     },
     "execution_count": 11,
     "metadata": {},
     "output_type": "execute_result"
    }
   ],
   "source": [
    "import pandas as pd\n",
    "iris = pd.read_csv(\"http://image.cador.cn/data/iris.csv\")\n",
    "out = random_get_tree(iris,[1,2,3,4])\n",
    "out['tree_exp']"
   ]
  },
  {
   "cell_type": "code",
   "execution_count": 12,
   "metadata": {},
   "outputs": [
    {
     "data": {
      "text/plain": [
       "array([2.37484101, 0.1778776 , 3.86504948, 5.43992791, 2.04359372,\n",
       "       1.49057503, 2.60901032, 2.72281499, 0.42988853, 5.52923905,\n",
       "       1.89695809, 2.66703453, 0.1778776 , 0.1778776 , 1.42562205,\n",
       "       0.88156743, 1.49057503, 2.37484101, 1.75622778, 1.59894514,\n",
       "       2.82829504, 1.81674199, 1.92791555, 3.24218814, 2.66703453,\n",
       "       0.1778776 , 2.72281499, 2.4016217 , 2.7765188 , 3.86504948,\n",
       "       5.5000787 , 2.82829504, 1.12023908, 1.06582127, 5.52923905,\n",
       "       3.95025425, 2.47910425, 2.01553206, 0.1778776 , 2.74991677,\n",
       "       2.34755376, 0.95651372, 3.77449497, 2.34755376, 1.59894514,\n",
       "       0.1778776 , 1.59894514, 3.83549172, 1.87071186, 3.2151217 ,\n",
       "       4.4530588 , 4.32310939, 6.02927151, 1.05530763, 1.00731844,\n",
       "       0.96593856, 3.59790023, 0.93168172, 0.86845021, 0.81325811,\n",
       "       0.98894877, 0.46721677, 1.07015385, 0.91267903, 0.42988853,\n",
       "       5.98138388, 0.63501342, 0.90369399, 1.25329007, 0.95455486,\n",
       "       4.22569256, 0.73911078, 1.32559126, 1.04754447, 0.72699539,\n",
       "       0.58122085, 1.08667926, 0.87746104, 0.82282247, 0.83420929,\n",
       "       0.94962454, 0.93168172, 0.81325811, 1.28642249, 0.63501342,\n",
       "       3.04879353, 5.98527226, 1.20508655, 0.40664821, 0.99625786,\n",
       "       1.10284346, 0.68687216, 0.94142651, 0.95651372, 0.94687124,\n",
       "       0.46721677, 0.67658418, 0.72699539, 0.89318546, 0.78741922,\n",
       "       3.68335775, 1.28642249, 1.23184781, 1.25946828, 1.19650554,\n",
       "       1.45761433, 1.18840482, 1.48126633, 1.59354151, 2.84819409,\n",
       "       4.36827271, 1.3521366 , 1.08496666, 1.35794227, 1.19809079,\n",
       "       4.35551547, 1.08496666, 2.63537336, 1.8354033 , 1.41577572,\n",
       "       4.47092153, 1.12478044, 1.67976484, 1.21757168, 3.74199975,\n",
       "       4.53809811, 1.08667926, 0.83212191, 1.36655754, 1.19650554,\n",
       "       1.51739297, 2.62273196, 1.36655754, 1.19809079, 1.50071284,\n",
       "       1.30003644, 3.2134978 , 5.93150529, 0.78531156, 6.0355354 ,\n",
       "       5.99687492, 6.03178033, 1.28642249, 4.45904406, 3.74199975,\n",
       "       0.96407636, 1.35794227, 0.96407636, 3.17586089, 0.92141862])"
      ]
     },
     "execution_count": 12,
     "metadata": {},
     "output_type": "execute_result"
    }
   ],
   "source": [
    "out['f_value']"
   ]
  },
  {
   "cell_type": "markdown",
   "metadata": {},
   "source": [
    "定义二叉树节点类"
   ]
  },
  {
   "cell_type": "code",
   "execution_count": 13,
   "metadata": {},
   "outputs": [],
   "source": [
    "class Node:\n",
    "    def __init__(self, value, label, left=None, right=None):\n",
    "        self.value = value\n",
    "        self.label = label\n",
    "        self.left = left  \n",
    "        self.right = right"
   ]
  },
  {
   "cell_type": "markdown",
   "metadata": {},
   "source": [
    "定义transform函数"
   ]
  },
  {
   "cell_type": "code",
   "execution_count": 14,
   "metadata": {},
   "outputs": [
    {
     "data": {
      "text/plain": [
       "{0: 'g(sqrt,X1)',\n",
       " 1: 'g(sub,<0>,X1)',\n",
       " 2: 'g(binary,X2)',\n",
       " 3: 'g(times,<2>,X3)',\n",
       " 4: 'g(div,<1>,<3>)',\n",
       " 5: 'g(sigmoid,X3)',\n",
       " 6: 'g(add,X4,X2)',\n",
       " 7: 'g(div,<5>,<6>)',\n",
       " 8: 'g(add,<4>,<7>)'}"
      ]
     },
     "execution_count": 14,
     "metadata": {},
     "output_type": "execute_result"
    }
   ],
   "source": [
    "import re\n",
    "\n",
    "def transform(feature_string):\n",
    "    my_dict={}\n",
    "    pattern = r'g\\([^\\(\\)]*\\)'\n",
    "    so = re.search(pattern, feature_string)\n",
    "    while so:\n",
    "        start, end = so.span()\n",
    "        key = len(my_dict)\n",
    "        my_dict[key]=so.group()\n",
    "        feature_string = feature_string[0:start]+'<'+str(key)+'>'+feature_string[end:]\n",
    "        so = re.search(pattern, feature_string)\n",
    "    return my_dict\n",
    "\n",
    "exp_tmp = 'g(add,g(div,g(sub,g(sqrt,X1),X1),g(times,g(binary,X2),X3)),g(div,g(sigmoid,X3),g(add,X4,X2)))'\n",
    "transform(exp_tmp)"
   ]
  },
  {
   "cell_type": "markdown",
   "metadata": {},
   "source": [
    "定义parse函数"
   ]
  },
  {
   "cell_type": "code",
   "execution_count": 15,
   "metadata": {},
   "outputs": [],
   "source": [
    "def parse(group_unit):\n",
    "    tmp = group_unit.lstrip(\"g(\").rstrip(\")\").split(',')\n",
    "    tmp = tmp + [None] if len(tmp) == 2 else tmp\n",
    "    return [int(x[1:-1]) if x is not None and re.match(r'<[0-9]+>',x) else x for x in tmp]"
   ]
  },
  {
   "cell_type": "markdown",
   "metadata": {},
   "source": [
    "编写bitree函数，通过深度优化遍历的方式构建二叉树"
   ]
  },
  {
   "cell_type": "code",
   "execution_count": 16,
   "metadata": {},
   "outputs": [],
   "source": [
    "def bitree(mapping, start_no, index=0, labels={}):\n",
    "    name, left, right = parse(mapping[start_no])\n",
    "    if left is not None:\n",
    "        if type(left) == int:\n",
    "            left_node, s_labels, max_index = bitree(mapping, left, index+1, labels)\n",
    "            labels = s_labels\n",
    "        else:\n",
    "            left_node = Node(index+1, left)\n",
    "            labels[index+1] = left\n",
    "            max_index = index+1\n",
    "    else:\n",
    "        left_node = None\n",
    "    \n",
    "    if right is not None:\n",
    "        if type(right) == int:\n",
    "            right_node, s_labels, max_index = bitree(mapping, right, max_index+1, labels)\n",
    "            labels = s_labels\n",
    "        else:\n",
    "            right_node = Node(max_index+1, right)\n",
    "            labels[max_index+1] = right\n",
    "            max_index = max_index+1\n",
    "    else:\n",
    "        right_node = None\n",
    "        \n",
    "    labels[index] = name\n",
    "    return Node(index, name, left_node, right_node) ,labels, max_index"
   ]
  },
  {
   "cell_type": "markdown",
   "metadata": {},
   "source": [
    "定义create_graph函数"
   ]
  },
  {
   "cell_type": "code",
   "execution_count": 17,
   "metadata": {},
   "outputs": [],
   "source": [
    "def create_graph(G, node, pos={}, x=0, y=0, layer=1):\n",
    "    pos[node.value] = (x, y)\n",
    "    if node.left:\n",
    "        G.add_edge(node.value, node.left.value)\n",
    "        l_x, l_y = x - 1 / layer, y - 1\n",
    "        l_layer = layer + 1\n",
    "        create_graph(G, node.left, x=l_x, y=l_y, pos=pos, layer=l_layer)\n",
    "    if node.right:\n",
    "        G.add_edge(node.value, node.right.value)\n",
    "        r_x, r_y = x + 1 / layer, y - 1\n",
    "        r_layer = layer + 1\n",
    "        create_graph(G, node.right, x=r_x, y=r_y, pos=pos, layer=r_layer)\n",
    "    return G, pos"
   ]
  },
  {
   "cell_type": "markdown",
   "metadata": {},
   "source": [
    "编写Python代码，对特征表达式字符串exp_tmp，绘制对应的二叉树图"
   ]
  },
  {
   "cell_type": "code",
   "execution_count": 19,
   "metadata": {},
   "outputs": [
    {
     "data": {
      "image/png": "[encoded data removed]",
      "text/plain": [
       "<Figure size 1440x792 with 1 Axes>"
      ]
     },
     "metadata": {},
     "output_type": "display_data"
    }
   ],
   "source": [
    "import networkx as nx\n",
    "import matplotlib\n",
    "import matplotlib.pyplot as plt\n",
    "matplotlib.rcParams['font.family'] = 'Arial Unicode MS'\n",
    "\n",
    "def plot_tree(feature_string, title=None, node_size=3000, font_size=18):\n",
    "    my_dict = transform(feature_string)\n",
    "    root, labels, _ = bitree(my_dict, len(my_dict)-1, 0, labels={})\n",
    "    graph = nx.Graph()\n",
    "    graph, pos = create_graph(graph, root)\n",
    "    nx.draw_networkx(graph, pos, node_size=node_size,width=2,node_color='black',font_color='white',font_size=font_size,with_labels=True,labels=labels)\n",
    "    plt.axis('off')\n",
    "    if title is not None:\n",
    "        plt.title(title)\n",
    "    \n",
    "plt.figure(figsize=(20,11))\n",
    "plot_tree(exp_tmp)\n",
    "plt.show()"
   ]
  }
 ],
 "metadata": {
  "kernelspec": {
   "display_name": "Python 3",
   "language": "python",
   "name": "python3"
  },
  "language_info": {
   "codemirror_mode": {
    "name": "ipython",
    "version": 3
   },
   "file_extension": ".py",
   "mimetype": "text/x-python",
   "name": "python",
   "nbconvert_exporter": "python",
   "pygments_lexer": "ipython3",
   "version": "3.7.5"
  }
 },
 "nbformat": 4,
 "nbformat_minor": 4
}
